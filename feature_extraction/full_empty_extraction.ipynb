{
 "cells": [
  {
   "cell_type": "code",
   "execution_count": 2,
   "id": "7e33c306-b5c4-4a38-beec-341b7cf37e23",
   "metadata": {},
   "outputs": [],
   "source": [
    "import tensorflow as tf\n",
    "import numpy as np\n",
    "import pandas as pd\n",
    "from collections import Counter\n",
    "\n",
    "from sklearn.decomposition import PCA, SparsePCA, TruncatedSVD, IncrementalPCA\n",
    "from scipy.sparse import csr_matrix, lil_matrix\n",
    "import scipy\n",
    "from itertools import chain\n",
    "import statistics\n",
    "from sklearn.pipeline import make_pipeline\n",
    "from sklearn import svm, preprocessing\n",
    "from sklearn.preprocessing import StandardScaler, normalize\n",
    "from tensorflow.keras.preprocessing.image import ImageDataGenerator, load_img\n",
    "from numpy import expand_dims\n",
    "from tensorflow.keras.utils import to_categorical\n",
    "from tensorflow import concat\n",
    "from sklearn.model_selection import train_test_split, cross_val_score\n",
    "from sklearn.metrics import accuracy_score\n",
    "from sklearn.decomposition import PCA\n",
    "import matplotlib.pyplot as plt\n",
    "import random\n",
    "import tensorflow\n",
    "import os\n",
    "from tensorflow.keras.models import Sequential, load_model, save_model\n",
    "from tensorflow.keras import layers, Input\n",
    "from tensorflow.keras.layers import Rescaling, Conv2D, MaxPooling2D, Dropout, Flatten, Dense, Activation, GlobalAveragePooling2D, GlobalMaxPooling2D, BatchNormalization\n",
    "from tensorflow.keras import applications\n",
    "from tensorflow.keras.preprocessing.image import ImageDataGenerator, img_to_array\n",
    "from tensorflow.keras.preprocessing import image_dataset_from_directory\n",
    "from tensorflow.keras import optimizers\n",
    "from tensorflow.keras.applications import VGG16, VGG19\n",
    "from tensorflow.keras.models import Model\n",
    "from tensorflow.keras import regularizers\n",
    "from tensorflow.keras.callbacks import ReduceLROnPlateau\n",
    "from keras.applications.vgg19 import preprocess_input\n",
    "from tensorflow.image import rgb_to_grayscale, grayscale_to_rgb\n",
    "from tensorflow import tile\n",
    "from tqdm import tqdm\n",
    "from sklearn.pipeline import make_pipeline\n",
    "from sklearn.preprocessing import StandardScaler\n",
    "from sklearn.svm import SVC\n",
    "image_size = 224\n",
    "input_shape = (image_size, image_size, 3)\n",
    "os.chdir('/home/jupyter-bbeltzun')"
   ]
  },
  {
   "cell_type": "code",
   "execution_count": 3,
   "id": "e142d881-c2dc-4c04-ae70-0f270e6d3c4e",
   "metadata": {},
   "outputs": [],
   "source": [
    "covered = 'full'"
   ]
  },
  {
   "cell_type": "code",
   "execution_count": 4,
   "id": "8848978b-76ef-4f21-9405-4abe8c0e0d58",
   "metadata": {},
   "outputs": [
    {
     "name": "stderr",
     "output_type": "stream",
     "text": [
      "100%|██████████| 641/641 [00:55<00:00, 11.63it/s]\n"
     ]
    }
   ],
   "source": [
    "# importation des données\n",
    "\n",
    "drawings_names = os.listdir(covered + '/' + covered + '_all/')\n",
    "seasons = ['Autumn','Winter','Spring','Summer']\n",
    "i = 0\n",
    "drawings = []\n",
    "labels = list()\n",
    "\n",
    "for img in tqdm(drawings_names):\n",
    "    if not img.startswith('.'):\n",
    "        for season in seasons:\n",
    "            if season in img:\n",
    "                labels.append(str(season))\n",
    "        img = load_img('img/'+img, target_size=(224,224,3))\n",
    "        img = img_to_array(img)\n",
    "        img = expand_dims(img,axis=0)\n",
    "        img = preprocess_input(img)\n",
    "        img = np.array(img)\n",
    "        drawings.append(img)\n",
    "        i = i + 1"
   ]
  },
  {
   "cell_type": "code",
   "execution_count": 6,
   "id": "1fc825e4-d263-40e0-b01c-278cf01e25e2",
   "metadata": {},
   "outputs": [],
   "source": [
    "# importer VGG19 et avoir en sortie les activations aux couches de convolution\n",
    "vgg = tensorflow.keras.applications.VGG19(weights='imagenet', include_top=True, input_shape = (224,224,3))\n",
    "ixs = []\n",
    "\n",
    "i=0\n",
    "for layer in vgg.layers:\n",
    "    if \"conv\" in layer.name:\n",
    "        ixs.append(i)\n",
    "    i=i+1\n",
    "\n",
    "outputs = [vgg.layers[i].output for i in ixs]\n",
    "feature_extraction_model = Model(inputs=vgg.input, outputs=outputs)\n",
    "\n",
    "kernels_size = []\n",
    "for i in range(len(feature_extraction_model.outputs)):\n",
    "    kernels_size.append((feature_extraction_model.outputs[i].shape[1],feature_extraction_model.outputs[i].shape[2]))\n",
    "\n",
    "# nombre de channels par couche\n",
    "nb_channels = []\n",
    "for i in range(len(feature_extraction_model.outputs)):\n",
    "    nb_channels.append(feature_extraction_model.outputs[i].shape[3])"
   ]
  },
  {
   "cell_type": "code",
   "execution_count": 8,
   "id": "c962f439-31bb-4a24-9f3a-bb294f36375d",
   "metadata": {},
   "outputs": [
    {
     "name": "stdout",
     "output_type": "stream",
     "text": [
      "Indice 0 : La longueur d'un vecteur de la couche 1 pour une image donnée est de : 3211264 (taille kernel : 224x224 et nombre channels : 64)\n",
      "Indice 1 : La longueur d'un vecteur de la couche 2 pour une image donnée est de : 3211264 (taille kernel : 224x224 et nombre channels : 64)\n",
      "Indice 2 : La longueur d'un vecteur de la couche 4 pour une image donnée est de : 1605632 (taille kernel : 112x112 et nombre channels : 128)\n",
      "Indice 3 : La longueur d'un vecteur de la couche 5 pour une image donnée est de : 1605632 (taille kernel : 112x112 et nombre channels : 128)\n",
      "Indice 4 : La longueur d'un vecteur de la couche 7 pour une image donnée est de : 802816 (taille kernel : 56x56 et nombre channels : 256)\n",
      "Indice 5 : La longueur d'un vecteur de la couche 8 pour une image donnée est de : 802816 (taille kernel : 56x56 et nombre channels : 256)\n",
      "Indice 6 : La longueur d'un vecteur de la couche 9 pour une image donnée est de : 802816 (taille kernel : 56x56 et nombre channels : 256)\n",
      "Indice 7 : La longueur d'un vecteur de la couche 10 pour une image donnée est de : 802816 (taille kernel : 56x56 et nombre channels : 256)\n",
      "Indice 8 : La longueur d'un vecteur de la couche 12 pour une image donnée est de : 401408 (taille kernel : 28x28 et nombre channels : 512)\n",
      "Indice 9 : La longueur d'un vecteur de la couche 13 pour une image donnée est de : 401408 (taille kernel : 28x28 et nombre channels : 512)\n",
      "Indice 10 : La longueur d'un vecteur de la couche 14 pour une image donnée est de : 401408 (taille kernel : 28x28 et nombre channels : 512)\n",
      "Indice 11 : La longueur d'un vecteur de la couche 15 pour une image donnée est de : 401408 (taille kernel : 28x28 et nombre channels : 512)\n",
      "Indice 12 : La longueur d'un vecteur de la couche 17 pour une image donnée est de : 100352 (taille kernel : 14x14 et nombre channels : 512)\n",
      "Indice 13 : La longueur d'un vecteur de la couche 18 pour une image donnée est de : 100352 (taille kernel : 14x14 et nombre channels : 512)\n",
      "Indice 14 : La longueur d'un vecteur de la couche 19 pour une image donnée est de : 100352 (taille kernel : 14x14 et nombre channels : 512)\n",
      "Indice 15 : La longueur d'un vecteur de la couche 20 pour une image donnée est de : 100352 (taille kernel : 14x14 et nombre channels : 512)\n"
     ]
    }
   ],
   "source": [
    "for i in range(len(ixs)):\n",
    "    print('Indice ' + str(i) + ' : La longueur d\\'un vecteur de la couche ' + str(ixs[i]) + ' pour une image donnée est de : ' + str(kernels_size[i][0]**2 * nb_channels[i]) +\n",
    "          ' (taille kernel : ' + str(kernels_size[i][0]) + 'x' + str(kernels_size[i][0]) + ' et nombre channels : ' + str(nb_channels[i]) + ')')"
   ]
  },
  {
   "cell_type": "markdown",
   "id": "5f84b68f-c71e-410e-9688-2a8ff94618de",
   "metadata": {},
   "source": [
    "## A faire tourner pour chaque couche (pas besoin de sampler 50% sur les couches 0 et 1 ici)"
   ]
  },
  {
   "cell_type": "code",
   "execution_count": 15,
   "id": "1613d2e3-77b8-49fc-943e-67ddc031a07e",
   "metadata": {},
   "outputs": [],
   "source": [
    "depth = 0 # correspond à l'indice au-dessus\n",
    "outputs = vgg.layers[ixs[depth]].output\n",
    "feature_extraction_model = Model(inputs=vgg.input, outputs=outputs)\n",
    "nb_channel = feature_extraction_model.outputs[0].shape[3]\n",
    "kernel_size = feature_extraction_model.outputs[0].shape[1]"
   ]
  },
  {
   "cell_type": "code",
   "execution_count": 16,
   "id": "105cde0f-5d41-4cc8-be24-cd6419dfb333",
   "metadata": {},
   "outputs": [
    {
     "name": "stderr",
     "output_type": "stream",
     "text": [
      "100%|██████████| 640/640 [07:22<00:00,  1.45it/s]\n"
     ]
    }
   ],
   "source": [
    "features_row = np.zeros((len(drawings),kernel_size**2 * nb_channel), dtype = 'float16')\n",
    "\n",
    "for i in tqdm(range(len(drawings))): # pour chaque image, on extrait les features\n",
    "    tmp_drawing = drawings[i]\n",
    "    tmp_feature = feature_extraction_model.predict(tmp_drawing)\n",
    "    flattened_features = []\n",
    "    for j in range(nb_channel): # aplatissement de chaque feature qui devient une ligne de la matrice pour cette couche\n",
    "        flattened_features.append(tmp_feature[0,:,:,j].flatten())\n",
    "    flattened_features = list(chain.from_iterable(flattened_features))\n",
    "    features_row[i,:] = flattened_features"
   ]
  },
  {
   "cell_type": "markdown",
   "id": "badf0745-6ac5-43ca-8600-d790a6f4b970",
   "metadata": {},
   "source": [
    "### PCA"
   ]
  },
  {
   "cell_type": "code",
   "execution_count": 17,
   "id": "14f7d4b0-7855-4e17-a4e0-f6ff65a1d620",
   "metadata": {},
   "outputs": [],
   "source": [
    "scaler = StandardScaler()\n",
    "standardized_features_row = scaler.fit_transform(features_row)\n",
    "pca = PCA(n_components = 0.8)\n",
    "X_pca = pca.fit_transform(standardized_features_row)\n",
    "X_pca.shape\n",
    "\n",
    "np.savez_compressed('features_' + covered + '/PCA_table/features_PCA_' + covered + '_' + str(depth) + '.npz', X_pca, delimiters=',')\n",
    "# data = np.load to load\n",
    "# data['arr_0'] to have the dataset"
   ]
  },
  {
   "cell_type": "markdown",
   "id": "a2df77ed-6f54-4881-9a5e-24b733088bf4",
   "metadata": {},
   "source": [
    "#### Plot explained variance + cumulative explained variance"
   ]
  },
  {
   "cell_type": "code",
   "execution_count": null,
   "id": "70ddcca2-d65f-4b16-a40c-da104f8a24f3",
   "metadata": {},
   "outputs": [],
   "source": [
    "exp_var_pca = pca.explained_variance_ratio_\n",
    "\n",
    "cum_sum_eigenvalues = np.cumsum(exp_var_pca)\n",
    "\n",
    "plt.step(range(0,len(cum_sum_eigenvalues)), cum_sum_eigenvalues, where='mid',label='Cumulative explained variance')\n",
    "plt.ylabel('Explained variance ratio')\n",
    "plt.xlabel('Principal component index')\n",
    "plt.legend(loc='best')\n",
    "plt.tight_layout()\n",
    "plt.savefig('features_' + covered + '/plot_variance/cumulative_' + covered + '_' + str(depth))\n",
    "plt.show()"
   ]
  },
  {
   "cell_type": "code",
   "execution_count": null,
   "id": "5f5c6864-8698-470a-8d0c-b7230f75c925",
   "metadata": {},
   "outputs": [],
   "source": [
    "plt.step(range(0,len(exp_var_pca)), exp_var_pca, where='mid',label='Individual explained variance')\n",
    "plt.ylabel('Explained variance ratio')\n",
    "plt.xlabel('Principal component index')\n",
    "plt.legend(loc='best')\n",
    "plt.tight_layout()\n",
    "plt.savefig('features_' + covered + '/plot_variance/variance_' + covered + '_' + str(depth))\n",
    "plt.show()"
   ]
  },
  {
   "cell_type": "code",
   "execution_count": null,
   "id": "6b9764d0-8392-470b-9c81-c6b6b8e9b7f6",
   "metadata": {},
   "outputs": [],
   "source": [
    "clf = SVC()\n",
    "scores = cross_val_score(clf, X_pca, labels, cv=10)"
   ]
  },
  {
   "cell_type": "code",
   "execution_count": null,
   "id": "0e1260dd-86a0-421d-be38-c0ca1f632cd8",
   "metadata": {},
   "outputs": [],
   "source": [
    "np.savetxt('features_' + covered + '/scores/score_' + covered + '_' + str(depth) + '.csv', scores, delimiter=\",\")"
   ]
  },
  {
   "cell_type": "markdown",
   "id": "e8b6f7c9-d8b2-4f82-918f-0bb34a19a117",
   "metadata": {},
   "source": [
    "## Feature activation of the 2 FC layers"
   ]
  },
  {
   "cell_type": "code",
   "execution_count": 15,
   "id": "bbc5ac1f-594d-4659-8b33-e3290c203a91",
   "metadata": {},
   "outputs": [],
   "source": [
    "depth = 24 # FC layers : depth 23 and 24\n",
    "outputs = vgg.layers[depth].output\n",
    "feature_extraction_model = Model(inputs=vgg.input, outputs=outputs)\n",
    "length_fc = feature_extraction_model.outputs[0].shape[1]"
   ]
  },
  {
   "cell_type": "code",
   "execution_count": 16,
   "id": "886c6483-25cd-4e0a-9597-44c1788ddcb7",
   "metadata": {},
   "outputs": [
    {
     "name": "stderr",
     "output_type": "stream",
     "text": [
      "100%|██████████| 640/640 [03:23<00:00,  3.14it/s]\n"
     ]
    }
   ],
   "source": [
    "features_row = np.zeros((len(drawings),length_fc), dtype = 'float32')\n",
    "\n",
    "for i in tqdm(range(len(drawings))): # pour chaque image, on extrait les features\n",
    "    tmp_drawing = drawings[i]\n",
    "    tmp_feature = feature_extraction_model.predict(tmp_drawing)\n",
    "    features_row[i,:] = tmp_feature"
   ]
  },
  {
   "cell_type": "code",
   "execution_count": 17,
   "id": "63f6b059-509a-4aca-8e26-5f92bf113079",
   "metadata": {},
   "outputs": [],
   "source": [
    "scaler = StandardScaler()\n",
    "standardized_features_row = scaler.fit_transform(features_row)\n",
    "pca = PCA(n_components = 0.8)\n",
    "X_pca = pca.fit_transform(standardized_features_row)\n",
    "X_pca.shape\n",
    "\n",
    "np.savez_compressed('features_' + covered + '/PCA_table/features_PCA_' + covered + '_' + vgg.layers[depth].name + '.npz', X_pca, delimiters=',')"
   ]
  },
  {
   "cell_type": "code",
   "execution_count": 19,
   "id": "5d5a21cd-f590-4603-8671-959ab6170d91",
   "metadata": {},
   "outputs": [
    {
     "data": {
      "image/png": "[encoded data removed]",
      "text/plain": [
       "<Figure size 432x288 with 1 Axes>"
      ]
     },
     "metadata": {
      "needs_background": "light"
     },
     "output_type": "display_data"
    }
   ],
   "source": [
    "exp_var_pca = pca.explained_variance_ratio_\n",
    "\n",
    "cum_sum_eigenvalues = np.cumsum(exp_var_pca)\n",
    "\n",
    "plt.step(range(0,len(cum_sum_eigenvalues)), cum_sum_eigenvalues, where='mid',label='Cumulative explained variance')\n",
    "plt.ylabel('Explained variance ratio')\n",
    "plt.xlabel('Principal component index')\n",
    "plt.legend(loc='best')\n",
    "plt.tight_layout()\n",
    "plt.savefig('features_' + covered + '/plot_variance/cumulative_' + covered + '_' +  vgg.layers[depth].name)\n",
    "plt.show()"
   ]
  },
  {
   "cell_type": "code",
   "execution_count": 20,
   "id": "97953df3-5b1b-4186-83bc-fa6d53e2e4da",
   "metadata": {},
   "outputs": [
    {
     "data": {
      "image/png": "[encoded data removed]",
      "text/plain": [
       "<Figure size 432x288 with 1 Axes>"
      ]
     },
     "metadata": {
      "needs_background": "light"
     },
     "output_type": "display_data"
    }
   ],
   "source": [
    "plt.step(range(0,len(exp_var_pca)), exp_var_pca, where='mid',label='Individual explained variance')\n",
    "plt.ylabel('Explained variance ratio')\n",
    "plt.xlabel('Principal component index')\n",
    "plt.legend(loc='best')\n",
    "plt.tight_layout()\n",
    "plt.savefig('features_' + covered + '/plot_variance/variance_' + covered + '_' + vgg.layers[depth].name)\n",
    "plt.show()"
   ]
  },
  {
   "cell_type": "code",
   "execution_count": 21,
   "id": "716b423e-2a92-4f8e-b11a-230c0414c8cf",
   "metadata": {},
   "outputs": [],
   "source": [
    "clf = SVC()\n",
    "scores = cross_val_score(clf, X_pca, labels, cv=10)\n",
    "\n",
    "np.savetxt('features_' + covered + '/scores/score_' + covered + '_' + vgg.layers[depth].name + '.csv', scores, delimiter=\",\")"
   ]
  },
  {
   "cell_type": "markdown",
   "id": "7813b04f-b5c9-4bc8-9eef-e3c9d0fb6218",
   "metadata": {},
   "source": [
    "## Zip les dossiers pour les télécharger"
   ]
  },
  {
   "cell_type": "code",
   "execution_count": 29,
   "id": "00d04ed7-459e-48b6-b66b-c5bdf34eb232",
   "metadata": {},
   "outputs": [],
   "source": [
    "!tar -czf features_empty.tar.gz features_empty\n",
    "!tar -czf features_full.tar.gz features_full"
   ]
  }
 ],
 "metadata": {
  "kernelspec": {
   "display_name": "Python 3 (ipykernel)",
   "language": "python",
   "name": "python3"
  },
  "language_info": {
   "codemirror_mode": {
    "name": "ipython",
    "version": 3
   },
   "file_extension": ".py",
   "mimetype": "text/x-python",
   "name": "python",
   "nbconvert_exporter": "python",
   "pygments_lexer": "ipython3",
   "version": "3.9.7"
  }
 },
 "nbformat": 4,
 "nbformat_minor": 5
}
