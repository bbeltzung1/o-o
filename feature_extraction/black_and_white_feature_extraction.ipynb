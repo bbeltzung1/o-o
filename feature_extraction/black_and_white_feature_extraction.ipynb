{
 "cells": [
  {
   "cell_type": "code",
   "execution_count": 1,
   "id": "798e02fe-f7d9-468b-9714-800691310683",
   "metadata": {},
   "outputs": [
    {
     "name": "stderr",
     "output_type": "stream",
     "text": [
      "2022-04-16 18:34:26.138374: W tensorflow/stream_executor/platform/default/dso_loader.cc:64] Could not load dynamic library 'libcudart.so.11.0'; dlerror: libcudart.so.11.0: cannot open shared object file: No such file or directory\n",
      "2022-04-16 18:34:26.138440: I tensorflow/stream_executor/cuda/cudart_stub.cc:29] Ignore above cudart dlerror if you do not have a GPU set up on your machine.\n"
     ]
    }
   ],
   "source": [
    "import tensorflow as tf\n",
    "import numpy as np\n",
    "import pandas as pd\n",
    "from collections import Counter\n",
    "\n",
    "from sklearn.decomposition import PCA, SparsePCA, TruncatedSVD, IncrementalPCA\n",
    "from scipy.sparse import csr_matrix, lil_matrix\n",
    "from itertools import chain\n",
    "import statistics\n",
    "from sklearn.pipeline import make_pipeline\n",
    "from sklearn import svm, preprocessing\n",
    "from sklearn.preprocessing import StandardScaler, normalize\n",
    "from tensorflow.keras.preprocessing.image import ImageDataGenerator, load_img\n",
    "from numpy import expand_dims\n",
    "from tensorflow.keras.utils import to_categorical\n",
    "from tensorflow import concat\n",
    "from sklearn.model_selection import train_test_split, cross_val_score\n",
    "from sklearn.metrics import accuracy_score\n",
    "from sklearn.decomposition import PCA\n",
    "import matplotlib.pyplot as plt\n",
    "import random\n",
    "import tensorflow\n",
    "import os\n",
    "from tensorflow.keras.models import Sequential, load_model, save_model\n",
    "from tensorflow.keras import layers, Input\n",
    "from tensorflow.keras.layers import Rescaling, Conv2D, MaxPooling2D, Dropout, Flatten, Dense, Activation, GlobalAveragePooling2D, GlobalMaxPooling2D, BatchNormalization\n",
    "from tensorflow.keras import applications\n",
    "from tensorflow.keras.preprocessing.image import ImageDataGenerator, img_to_array\n",
    "from tensorflow.keras.preprocessing import image_dataset_from_directory\n",
    "from tensorflow.keras import optimizers\n",
    "from tensorflow.keras.applications import VGG16, VGG19\n",
    "from tensorflow.keras.models import Model\n",
    "from tensorflow.keras import regularizers\n",
    "from tensorflow.keras.callbacks import ReduceLROnPlateau\n",
    "from keras.applications.vgg19 import preprocess_input\n",
    "from tensorflow.image import rgb_to_grayscale, grayscale_to_rgb\n",
    "from tensorflow import tile\n",
    "from tqdm import tqdm\n",
    "from sklearn.pipeline import make_pipeline\n",
    "from sklearn.preprocessing import StandardScaler\n",
    "from sklearn.svm import SVC\n",
    "image_size = 224\n",
    "input_shape = (image_size, image_size, 3)\n",
    "\n",
    "os.chdir('/home/jupyter-bbeltzun')"
   ]
  },
  {
   "cell_type": "code",
   "execution_count": 2,
   "id": "44633acb-e3f5-4ff7-ab6f-dce998a33cbc",
   "metadata": {},
   "outputs": [
    {
     "name": "stderr",
     "output_type": "stream",
     "text": [
      "100%|██████████| 1300/1300 [01:50<00:00, 11.74it/s]\n"
     ]
    }
   ],
   "source": [
    "# importation des données\n",
    "\n",
    "drawings_names = os.listdir('img/')\n",
    "seasons = ['Autumn','Winter','Spring','Summer']\n",
    "i = 0\n",
    "drawings = []\n",
    "labels = list()\n",
    "\n",
    "for img in tqdm(drawings_names):\n",
    "    if not img.startswith('.'):\n",
    "        for season in seasons:\n",
    "            if season in img:\n",
    "                labels.append(str(seson))\n",
    "        img = load_img('img/'+img, target_size=(224,224,3))\n",
    "        img = img_to_array(img)\n",
    "        img = expand_dims(img,axis=0)\n",
    "        img = preprocess_input(img)\n",
    "        img = np.array(img)\n",
    "        grayscale_img = 0.299*img[0,:,:,0] + 0.587*img[0,:,:,1] + 0.114*img[0,:,:,2]\n",
    "        for i in range(3):\n",
    "            img[0,:,:,i] = grayscale_img\n",
    "        drawings.append(img)\n",
    "        i = i + 1"
   ]
  },
  {
   "cell_type": "code",
   "execution_count": 4,
   "id": "6c6e5d76-2e46-46ff-a3af-860b0421aa86",
   "metadata": {},
   "outputs": [],
   "source": [
    "# importer VGG19 et avoir en sortie les activations aux couches de convolution\n",
    "vgg = tensorflow.keras.applications.VGG19(weights='imagenet', include_top=True, input_shape = (224,224,3))\n",
    "ixs = []\n",
    "\n",
    "i=0\n",
    "for layer in vgg.layers:\n",
    "    if \"conv\" in layer.name:\n",
    "        ixs.append(i)\n",
    "    i=i+1\n",
    "\n",
    "outputs = [vgg.layers[i].output for i in ixs]\n",
    "feature_extraction_model = Model(inputs=vgg.input, outputs=outputs)\n",
    "\n",
    "kernels_size = []\n",
    "for i in range(len(feature_extraction_model.outputs)):\n",
    "    kernels_size.append((feature_extraction_model.outputs[i].shape[1],feature_extraction_model.outputs[i].shape[2]))\n",
    "\n",
    "# nombre de channels par couche\n",
    "nb_channels = []\n",
    "for i in range(len(feature_extraction_model.outputs)):\n",
    "    nb_channels.append(feature_extraction_model.outputs[i].shape[3])"
   ]
  },
  {
   "cell_type": "markdown",
   "id": "38ce2de3-6ba2-4877-b4c5-1e42f55d7fcb",
   "metadata": {},
   "source": [
    "## A faire tourner pour chaque couche (exceptée 0 et 1)"
   ]
  },
  {
   "cell_type": "code",
   "execution_count": 24,
   "id": "385ec6ae-f85b-4d8e-86e0-a6bcf8f281da",
   "metadata": {},
   "outputs": [],
   "source": [
    "depth = 2\n",
    "outputs = vgg.layers[ixs[depth]].output\n",
    "feature_extraction_model = Model(inputs=vgg.input, outputs=outputs)\n",
    "nb_channel = feature_extraction_model.outputs[0].shape[3]\n",
    "kernel_size = feature_extraction_model.outputs[0].shape[1]"
   ]
  },
  {
   "cell_type": "code",
   "execution_count": 25,
   "id": "7a59ee53-4f48-40a3-8db0-efa07e6a45a4",
   "metadata": {},
   "outputs": [
    {
     "name": "stderr",
     "output_type": "stream",
     "text": [
      "100%|██████████| 1299/1299 [09:21<00:00,  2.31it/s]\n"
     ]
    }
   ],
   "source": [
    "features_row = np.zeros((len(drawings),kernel_size**2 * nb_channel), dtype = 'float16')\n",
    "\n",
    "for i in tqdm(range(len(drawings))): # pour chaque image, on extrait les features\n",
    "    tmp_drawing = drawings[i]\n",
    "    tmp_feature = feature_extraction_model.predict(tmp_drawing)\n",
    "    flattened_features = []\n",
    "    for j in range(nb_channel): # aplatissement de chaque feature qui devient une ligne de la matrice pour cette couche\n",
    "        flattened_features.append(tmp_feature[0,:,:,j].flatten())\n",
    "    flattened_features = list(chain.from_iterable(flattened_features))\n",
    "    features_row[i,:] = flattened_features"
   ]
  },
  {
   "cell_type": "code",
   "execution_count": 26,
   "id": "eb30c641-989e-4721-9d78-0b5adcfa269a",
   "metadata": {},
   "outputs": [],
   "source": [
    "scaler = StandardScaler()\n",
    "standardized_features_row = scaler.fit_transform(features_row)\n",
    "pca = PCA(n_components = 0.8)\n",
    "X_pca = pca.fit_transform(standardized_features_row)\n",
    "X_pca.shape\n",
    "\n",
    "np.savez_compressed('features_BW/PCA_table_BW/features_PCA_BW_' + str(depth) + '.npz', X_pca, delimiters=',')\n",
    "# data = np.load to load\n",
    "# data['arr_0'] to have the dataset"
   ]
  },
  {
   "cell_type": "code",
   "execution_count": 27,
   "id": "82cd757a-448e-44d8-8bb4-bdd813601646",
   "metadata": {},
   "outputs": [
    {
     "data": {
      "image/png": "[encoded data removed]",
      "text/plain": [
       "<Figure size 432x288 with 1 Axes>"
      ]
     },
     "metadata": {
      "needs_background": "light"
     },
     "output_type": "display_data"
    }
   ],
   "source": [
    "exp_var_pca = pca.explained_variance_ratio_\n",
    "\n",
    "cum_sum_eigenvalues = np.cumsum(exp_var_pca)\n",
    "\n",
    "plt.step(range(0,len(cum_sum_eigenvalues)), cum_sum_eigenvalues, where='mid',label='Cumulative explained variance')\n",
    "plt.ylabel('Explained variance ratio')\n",
    "plt.xlabel('Principal component index')\n",
    "plt.legend(loc='best')\n",
    "plt.tight_layout()\n",
    "plt.savefig('features_BW/plot_variance_BW/cumulative_BW_' + str(depth))\n",
    "plt.show()"
   ]
  },
  {
   "cell_type": "code",
   "execution_count": 28,
   "id": "d75fde07-743d-4470-8bc2-95e0a594d164",
   "metadata": {},
   "outputs": [
    {
     "data": {
      "image/png": "[encoded data removed]",
      "text/plain": [
       "<Figure size 432x288 with 1 Axes>"
      ]
     },
     "metadata": {
      "needs_background": "light"
     },
     "output_type": "display_data"
    }
   ],
   "source": [
    "plt.step(range(0,len(exp_var_pca)), exp_var_pca, where='mid',label='Individual explained variance')\n",
    "plt.ylabel('Explained variance ratio')\n",
    "plt.xlabel('Principal component index')\n",
    "plt.legend(loc='best')\n",
    "plt.tight_layout()\n",
    "plt.savefig('features_BW/plot_variance_BW/variance_BW_' + str(depth))\n",
    "plt.show()"
   ]
  },
  {
   "cell_type": "code",
   "execution_count": 29,
   "id": "db8bd4d5-5738-496e-9a6b-4871cd0b5515",
   "metadata": {},
   "outputs": [],
   "source": [
    "clf = SVC()\n",
    "scores = cross_val_score(clf, X_pca, labels, cv=10)\n",
    "np.savetxt('features_BW/scores_BW/score_BW_' + str(depth) + '.csv', scores, delimiter=\",\")"
   ]
  },
  {
   "cell_type": "markdown",
   "id": "12ae58b4-54e5-4984-a9f8-25df01a40dc1",
   "metadata": {},
   "source": [
    "## Code for layers 0 and 1 to sample 50% of the activations"
   ]
  },
  {
   "cell_type": "code",
   "execution_count": 5,
   "id": "23b3a386-653e-4d50-b2a0-935f3601725f",
   "metadata": {},
   "outputs": [
    {
     "name": "stderr",
     "output_type": "stream",
     "text": [
      "100%|██████████| 1299/1299 [38:47<00:00,  1.79s/it]\n"
     ]
    }
   ],
   "source": [
    "depth = 0 # only for layer 0 and 1\n",
    "outputs = vgg.layers[ixs[depth]].output\n",
    "feature_extraction_model = Model(inputs=vgg.input, outputs=outputs)\n",
    "nb_channel = feature_extraction_model.outputs[0].shape[3]\n",
    "kernel_size = feature_extraction_model.outputs[0].shape[1]\n",
    "\n",
    "\n",
    "# for layer 0 and 1, sample 50% :\n",
    "sampled_values = random.sample(range(kernel_size**2 * nb_channel),kernel_size**2 * nb_channel//2)\n",
    "features_row = np.zeros((len(drawings), len(sampled_values)), dtype = 'float16')\n",
    "\n",
    "\n",
    "for i in tqdm(range(len(drawings))): # pour chaque image, on extrait les features\n",
    "    tmp_drawing = drawings[i]\n",
    "    tmp_feature = feature_extraction_model.predict(tmp_drawing)\n",
    "    flattened_features = []\n",
    "    for j in range(nb_channel): # aplatissement de chaque feature qui devient une ligne de la matrice pour cette couche\n",
    "        flattened_features.append(tmp_feature[0,:,:,j].flatten())\n",
    "    flattened_features = list(chain.from_iterable(flattened_features))\n",
    "    flattened_features = [flattened_features[k] for k in np.sort(sampled_values)]\n",
    "    features_row[i,:] = flattened_features"
   ]
  },
  {
   "cell_type": "code",
   "execution_count": 6,
   "id": "95b3585f-2605-4bab-be19-de10e5a5b28d",
   "metadata": {},
   "outputs": [],
   "source": [
    "scaler = StandardScaler()\n",
    "standardized_features_row = scaler.fit_transform(features_row)\n",
    "pca = PCA(n_components = 0.8)\n",
    "X_pca = pca.fit_transform(standardized_features_row)\n",
    "X_pca.shape\n",
    "\n",
    "np.savez_compressed('features_BW/PCA_table_BW/features_PCA_BW_' + str(depth) + '.npz', X_pca, delimiters=',')"
   ]
  },
  {
   "cell_type": "code",
   "execution_count": 7,
   "id": "5c4e373a-528f-4289-bf1a-1f4635a97ca8",
   "metadata": {},
   "outputs": [
    {
     "data": {
      "image/png": "[encoded data removed]",
      "text/plain": [
       "<Figure size 432x288 with 1 Axes>"
      ]
     },
     "metadata": {
      "needs_background": "light"
     },
     "output_type": "display_data"
    }
   ],
   "source": [
    "exp_var_pca = pca.explained_variance_ratio_\n",
    "\n",
    "cum_sum_eigenvalues = np.cumsum(exp_var_pca)\n",
    "\n",
    "plt.step(range(0,len(cum_sum_eigenvalues)), cum_sum_eigenvalues, where='mid',label='Cumulative explained variance')\n",
    "plt.ylabel('Explained variance ratio')\n",
    "plt.xlabel('Principal component index')\n",
    "plt.legend(loc='best')\n",
    "plt.tight_layout()\n",
    "plt.savefig('features_BW/plot_variance_BW/cumulative_BW_' + str(depth))\n",
    "plt.show()"
   ]
  },
  {
   "cell_type": "code",
   "execution_count": 8,
   "id": "9e6c52c9-056c-4d7c-ba5d-1eed6e7002e4",
   "metadata": {},
   "outputs": [
    {
     "data": {
      "image/png": "[encoded data removed]",
      "text/plain": [
       "<Figure size 432x288 with 1 Axes>"
      ]
     },
     "metadata": {
      "needs_background": "light"
     },
     "output_type": "display_data"
    }
   ],
   "source": [
    "plt.step(range(0,len(exp_var_pca)), exp_var_pca, where='mid',label='Individual explained variance')\n",
    "plt.ylabel('Explained variance ratio')\n",
    "plt.xlabel('Principal component index')\n",
    "plt.legend(loc='best')\n",
    "plt.tight_layout()\n",
    "plt.savefig('features_BW/plot_variance_BW/variance_BW_' + str(depth))\n",
    "plt.show()"
   ]
  },
  {
   "cell_type": "code",
   "execution_count": 9,
   "id": "09b41ba9-87f0-4940-a374-77344690a97e",
   "metadata": {},
   "outputs": [],
   "source": [
    "clf = SVC()\n",
    "scores = cross_val_score(clf, X_pca, labels, cv=10)\n",
    "\n",
    "np.savetxt('features_BW/scores_BW/score_BW_' + str(depth) + '.csv', scores, delimiter=\",\")"
   ]
  },
  {
   "cell_type": "markdown",
   "id": "e8484c16-f352-443b-b687-2f3f8237413a",
   "metadata": {},
   "source": [
    "## Feature activation of the 2 FC layers"
   ]
  },
  {
   "cell_type": "code",
   "execution_count": 15,
   "id": "463f7e14-98fe-4a50-8e27-05daf6a7c113",
   "metadata": {},
   "outputs": [
    {
     "name": "stderr",
     "output_type": "stream",
     "text": [
      "100%|██████████| 1299/1299 [06:54<00:00,  3.13it/s]\n"
     ]
    }
   ],
   "source": [
    "depth = 24 # FC layers : depth 23 and 24\n",
    "outputs = vgg.layers[depth].output\n",
    "feature_extraction_model = Model(inputs=vgg.input, outputs=outputs)\n",
    "length_fc = feature_extraction_model.outputs[0].shape[1]\n",
    "\n",
    "features_row = np.zeros((len(drawings),length_fc), dtype = 'float32')\n",
    "\n",
    "for i in tqdm(range(len(drawings))): # pour chaque image, on extrait les features\n",
    "    tmp_drawing = drawings[i]\n",
    "    tmp_feature = feature_extraction_model.predict(tmp_drawing)\n",
    "    features_row[i,:] = tmp_feature"
   ]
  },
  {
   "cell_type": "code",
   "execution_count": 16,
   "id": "cdab45f5-c756-4a83-ac38-00cd5b8c4408",
   "metadata": {},
   "outputs": [],
   "source": [
    "scaler = StandardScaler()\n",
    "standardized_features_row = scaler.fit_transform(features_row)\n",
    "pca = PCA(n_components = 0.8)\n",
    "X_pca = pca.fit_transform(standardized_features_row)\n",
    "X_pca.shape\n",
    "\n",
    "np.savez_compressed('features_BW/PCA_table_BW/features_PCA_BW_' + vgg.layers[depth].name + '.npz', X_pca, delimiters=',')"
   ]
  },
  {
   "cell_type": "code",
   "execution_count": 17,
   "id": "816d9d60-ba85-4871-ab10-ce3278ef8197",
   "metadata": {},
   "outputs": [
    {
     "data": {
      "image/png": "[encoded data removed]",
      "text/plain": [
       "<Figure size 432x288 with 1 Axes>"
      ]
     },
     "metadata": {
      "needs_background": "light"
     },
     "output_type": "display_data"
    }
   ],
   "source": [
    "exp_var_pca = pca.explained_variance_ratio_\n",
    "\n",
    "cum_sum_eigenvalues = np.cumsum(exp_var_pca)\n",
    "\n",
    "plt.step(range(0,len(cum_sum_eigenvalues)), cum_sum_eigenvalues, where='mid',label='Cumulative explained variance')\n",
    "plt.ylabel('Explained variance ratio')\n",
    "plt.xlabel('Principal component index')\n",
    "plt.legend(loc='best')\n",
    "plt.tight_layout()\n",
    "plt.savefig('features_BW/plot_variance_BW/cumulative_BW_' + vgg.layers[depth].name)\n",
    "plt.show()"
   ]
  },
  {
   "cell_type": "code",
   "execution_count": 18,
   "id": "918d4ccc-249f-4ead-9d67-a783ae93eb35",
   "metadata": {},
   "outputs": [
    {
     "data": {
      "image/png": "[encoded data removed]",
      "text/plain": [
       "<Figure size 432x288 with 1 Axes>"
      ]
     },
     "metadata": {
      "needs_background": "light"
     },
     "output_type": "display_data"
    }
   ],
   "source": [
    "plt.step(range(0,len(exp_var_pca)), exp_var_pca, where='mid',label='Individual explained variance')\n",
    "plt.ylabel('Explained variance ratio')\n",
    "plt.xlabel('Principal component index')\n",
    "plt.legend(loc='best')\n",
    "plt.tight_layout()\n",
    "plt.savefig('features_BW/plot_variance_BW/variance_BW_' + vgg.layers[depth].name)\n",
    "plt.show()"
   ]
  },
  {
   "cell_type": "code",
   "execution_count": 19,
   "id": "68915c03-8787-458a-8d1e-93adbf7a9086",
   "metadata": {},
   "outputs": [],
   "source": [
    "clf = SVC()\n",
    "scores = cross_val_score(clf, X_pca, labels, cv=10)\n",
    "\n",
    "np.savetxt('features_BW/scores_BW/score_BW_' + vgg.layers[depth].name + '.csv', scores, delimiter=\",\")"
   ]
  },
  {
   "cell_type": "markdown",
   "id": "b6ed39d7-ff4f-43d8-91cd-cef9a7f0aa2f",
   "metadata": {
    "tags": []
   },
   "source": [
    "## Statistical comparisons of SVC on grayscale/RGB for each layer (calculated_features.ipynb)"
   ]
  }
 ],
 "metadata": {
  "kernelspec": {
   "display_name": "Python 3 (ipykernel)",
   "language": "python",
   "name": "python3"
  },
  "language_info": {
   "codemirror_mode": {
    "name": "ipython",
    "version": 3
   },
   "file_extension": ".py",
   "mimetype": "text/x-python",
   "name": "python",
   "nbconvert_exporter": "python",
   "pygments_lexer": "ipython3",
   "version": "3.9.7"
  }
 },
 "nbformat": 4,
 "nbformat_minor": 5
}
