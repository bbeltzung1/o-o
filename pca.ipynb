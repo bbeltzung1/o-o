{
 "cells": [
  {
   "cell_type": "code",
   "execution_count": 1,
   "id": "987995e6-6cda-4497-b19a-f9732e142cd4",
   "metadata": {},
   "outputs": [
    {
     "name": "stderr",
     "output_type": "stream",
     "text": [
      "2022-03-10 20:22:02.009575: W tensorflow/stream_executor/platform/default/dso_loader.cc:64] Could not load dynamic library 'libcudart.so.11.0'; dlerror: libcudart.so.11.0: cannot open shared object file: No such file or directory\n",
      "2022-03-10 20:22:02.009680: I tensorflow/stream_executor/cuda/cudart_stub.cc:29] Ignore above cudart dlerror if you do not have a GPU set up on your machine.\n"
     ]
    }
   ],
   "source": [
    "import tensorflow as tf\n",
    "import numpy as np\n",
    "import pandas as pd\n",
    "from collections import Counter\n",
    "\n",
    "from sklearn.decomposition import PCA, SparsePCA, TruncatedSVD\n",
    "from scipy.sparse import csr_matrix, lil_matrix\n",
    "from itertools import chain\n",
    "import statistics\n",
    "from sklearn.pipeline import make_pipeline\n",
    "from sklearn import svm, preprocessing\n",
    "from sklearn.preprocessing import StandardScaler\n",
    "from tensorflow.keras.preprocessing.image import ImageDataGenerator, load_img\n",
    "from numpy import expand_dims\n",
    "from tensorflow.keras.utils import to_categorical\n",
    "from tensorflow import concat\n",
    "from sklearn.model_selection import train_test_split, cross_val_score\n",
    "from sklearn.metrics import accuracy_score\n",
    "from sklearn.decomposition import PCA\n",
    "import matplotlib.pyplot as plt\n",
    "import random\n",
    "import tensorflow\n",
    "import os\n",
    "from tensorflow.keras.models import Sequential, load_model, save_model\n",
    "from tensorflow.keras import layers, Input\n",
    "from tensorflow.keras.layers import Rescaling, Conv2D, MaxPooling2D, Dropout, Flatten, Dense, Activation, GlobalAveragePooling2D, GlobalMaxPooling2D, BatchNormalization\n",
    "from tensorflow.keras import applications\n",
    "from tensorflow.keras.preprocessing.image import ImageDataGenerator, img_to_array\n",
    "from tensorflow.keras.preprocessing import image_dataset_from_directory\n",
    "from tensorflow.keras import optimizers\n",
    "from tensorflow.keras.applications import VGG16, VGG19\n",
    "from tensorflow.keras.models import Model\n",
    "from tensorflow.keras import regularizers\n",
    "from tensorflow.keras.callbacks import ReduceLROnPlateau\n",
    "from keras.applications.vgg19 import preprocess_input\n",
    "from tensorflow.image import rgb_to_grayscale, grayscale_to_rgb\n",
    "from tensorflow import tile\n",
    "from tqdm import tqdm\n",
    "from sklearn.pipeline import make_pipeline\n",
    "from sklearn.preprocessing import StandardScaler\n",
    "from sklearn.svm import SVC\n",
    "image_size = 224\n",
    "input_shape = (image_size, image_size, 3)"
   ]
  },
  {
   "cell_type": "code",
   "execution_count": 2,
   "id": "93334f1b-5021-4739-b2d9-af3974ad6822",
   "metadata": {},
   "outputs": [],
   "source": [
    "a=np.float32(np.random.uniform(low=-3, high=3, size=(1299,1605632)))"
   ]
  },
  {
   "cell_type": "code",
   "execution_count": 13,
   "id": "e0852efc-74f7-44f9-8907-cb144f8bd2b4",
   "metadata": {},
   "outputs": [
    {
     "data": {
      "text/plain": [
       "7.846523668639053"
      ]
     },
     "execution_count": 13,
     "metadata": {},
     "output_type": "execute_result"
    }
   ],
   "source": [
    "#taille en Go\n",
    "a.nbytes/1024/1014/1024"
   ]
  },
  {
   "cell_type": "code",
   "execution_count": 10,
   "id": "9c336b89-8a52-455b-bbcc-9fc11dfd42b2",
   "metadata": {},
   "outputs": [
    {
     "data": {
      "text/plain": [
       "(1299, 1028)"
      ]
     },
     "execution_count": 10,
     "metadata": {},
     "output_type": "execute_result"
    }
   ],
   "source": [
    "pca = PCA(n_components=0.8)\n",
    "X_pca = pca.fit_transform(a)\n",
    "X_pca.shape"
   ]
  },
  {
   "cell_type": "code",
   "execution_count": 3,
   "id": "d0c39fd8-a739-434e-a21d-5f8c3072df30",
   "metadata": {},
   "outputs": [],
   "source": [
    "a=np.float32(np.random.uniform(low=-3, high=3, size=(1299,3211264)))"
   ]
  },
  {
   "cell_type": "code",
   "execution_count": 4,
   "id": "70d6b373-ff13-45a9-9960-01b4cbacb38a",
   "metadata": {},
   "outputs": [
    {
     "data": {
      "text/plain": [
       "15.693047337278106"
      ]
     },
     "execution_count": 4,
     "metadata": {},
     "output_type": "execute_result"
    }
   ],
   "source": [
    "#taille en Go\n",
    "a.nbytes/1024/1014/1024"
   ]
  },
  {
   "cell_type": "code",
   "execution_count": null,
   "id": "b08df384-04d6-46b0-acb5-354a178d5f90",
   "metadata": {},
   "outputs": [],
   "source": [
    "pca = PCA(n_components=0.8)\n",
    "X_pca = pca.fit_transform(a)\n",
    "X_pca.shape"
   ]
  },
  {
   "cell_type": "code",
   "execution_count": 3,
   "id": "dad82d5d-b73f-481d-a4f4-3960afe6bf3e",
   "metadata": {},
   "outputs": [
    {
     "name": "stderr",
     "output_type": "stream",
     "text": [
      "2022-03-10 20:41:48.830042: I tensorflow/core/platform/cpu_feature_guard.cc:151] This TensorFlow binary is optimized with oneAPI Deep Neural Network Library (oneDNN) to use the following CPU instructions in performance-critical operations:  AVX2 AVX512F FMA\n",
      "To enable them in other operations, rebuild TensorFlow with the appropriate compiler flags.\n",
      "2022-03-10 20:41:48.898767: W tensorflow/core/framework/cpu_allocator_impl.cc:82] Allocation of 8342863872 exceeds 10% of free system memory.\n",
      "2022-03-10 20:41:51.813487: W tensorflow/core/framework/cpu_allocator_impl.cc:82] Allocation of 8342863872 exceeds 10% of free system memory.\n",
      "2022-03-10 20:41:53.121376: W tensorflow/core/framework/cpu_allocator_impl.cc:82] Allocation of 8342863872 exceeds 10% of free system memory.\n"
     ]
    }
   ],
   "source": [
    "a=tf.random.uniform((1299,1605632), minval=-3, maxval=3, dtype=tf.dtypes.float32, seed=None, name=None)"
   ]
  },
  {
   "cell_type": "code",
   "execution_count": 7,
   "id": "5474cf25-eeff-458e-8a8f-a27ea32115c5",
   "metadata": {},
   "outputs": [
    {
     "data": {
      "text/plain": [
       "TensorShape([1299, 1605632])"
      ]
     },
     "execution_count": 7,
     "metadata": {},
     "output_type": "execute_result"
    }
   ],
   "source": [
    "a.shape"
   ]
  },
  {
   "cell_type": "code",
   "execution_count": null,
   "id": "457e3356-f938-43ed-a292-e8086ddf5b22",
   "metadata": {},
   "outputs": [],
   "source": []
  }
 ],
 "metadata": {
  "kernelspec": {
   "display_name": "Python 3 (ipykernel)",
   "language": "python",
   "name": "python3"
  },
  "language_info": {
   "codemirror_mode": {
    "name": "ipython",
    "version": 3
   },
   "file_extension": ".py",
   "mimetype": "text/x-python",
   "name": "python",
   "nbconvert_exporter": "python",
   "pygments_lexer": "ipython3",
   "version": "3.9.7"
  }
 },
 "nbformat": 4,
 "nbformat_minor": 5
}
