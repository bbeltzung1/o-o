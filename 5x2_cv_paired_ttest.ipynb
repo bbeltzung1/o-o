{
 "cells": [
  {
   "cell_type": "code",
   "execution_count": 2,
   "id": "259a610e-f00c-4d43-b1b6-79d1aebe03d5",
   "metadata": {},
   "outputs": [],
   "source": [
    "import numpy as np\n",
    "import os\n",
    "from tqdm import tqdm\n",
    "\n",
    "from sklearn.svm import SVC\n",
    "from sklearn.model_selection import cross_val_score, StratifiedKFold\n",
    "from sklearn.dummy import DummyClassifier\n",
    "from scipy.stats import t"
   ]
  },
  {
   "cell_type": "code",
   "execution_count": 3,
   "id": "b0244474-2199-4998-9339-ca6cf4a92905",
   "metadata": {},
   "outputs": [],
   "source": [
    "# for 5x2 cv paired t test, calculation of s² for 1 replication\n",
    "def si2(pA,pB): # pA = [pA1,pA2] and pB = [pB1,pB2]\n",
    "    p1 = pA[0] - pB[0]\n",
    "    p2 = pA[1] - pB[1]\n",
    "    pbar = (p1 + p2)/2\n",
    "    s2 = (p1 - pbar)**2 + (p2 - pbar)**2\n",
    "    return(s2)"
   ]
  },
  {
   "cell_type": "code",
   "execution_count": 5,
   "id": "2ef51339-f6f0-4e7f-a599-2f9cac27c753",
   "metadata": {},
   "outputs": [
    {
     "name": "stderr",
     "output_type": "stream",
     "text": [
      "100%|██████████| 1300/1300 [00:00<00:00, 349749.53it/s]\n"
     ]
    }
   ],
   "source": [
    "# labels importation\n",
    "\n",
    "drawings_names = os.listdir('img/')\n",
    "seasons = ['Autumn','Winter','Spring','Summer']\n",
    "i = 0\n",
    "labels = list()\n",
    "\n",
    "for img in tqdm(drawings_names):\n",
    "    if not img.startswith('.'):\n",
    "        for season in seasons:\n",
    "            if season in img:\n",
    "                labels.append(str(season))\n",
    "        i = i + 1"
   ]
  },
  {
   "cell_type": "markdown",
   "id": "5cf92786-a7c2-43d1-8dd0-827ddda1ded9",
   "metadata": {},
   "source": [
    "## Compare RGB with random models"
   ]
  },
  {
   "cell_type": "code",
   "execution_count": 5,
   "id": "b1244d54-25d2-4e09-9d85-963eb3130ed4",
   "metadata": {},
   "outputs": [
    {
     "name": "stdout",
     "output_type": "stream",
     "text": [
      "Layer : 3 | p-value : 0.018960248968718982 | t-value : 3.4140359124885507\n",
      "Layer : 5 | p-value : 0.008933086124580745 | t-value : 4.147343007422349\n",
      "Layer : 7 | p-value : 0.0042078801648281474 | t-value : 4.97107229430879\n",
      "Layer : fc2 | p-value : 0.006648000586002324 | t-value : 4.458776100346009\n",
      "Layer : 9 | p-value : 0.010993482147370807 | t-value : 3.936945502457753\n",
      "Layer : 10 | p-value : 0.004977615772805138 | t-value : 4.778413125096315\n",
      "Layer : 0 | p-value : 0.006152093025957708 | t-value : 4.542943789728608\n",
      "Layer : 8 | p-value : 0.00048334596159133275 | t-value : 8.033481501505136\n",
      "Layer : 0a | p-value : 0.004895573752320558 | t-value : 4.797234573563938\n",
      "Layer : 4 | p-value : 0.009090917157889629 | t-value : 4.129329068132486\n",
      "Layer : 6 | p-value : 0.0019691004868953375 | t-value : 5.914040070180881\n",
      "Layer : 14 | p-value : 0.000117930508206652 | t-value : 10.8024279088095\n",
      "Layer : 11 | p-value : 0.027470000164592296 | t-value : 3.079988270219044\n",
      "Layer : fc1 | p-value : 0.017493745725254577 | t-value : 3.4887561638343354\n",
      "Layer : 2 | p-value : 0.018357420096694815 | t-value : 3.443927814409564\n",
      "Layer : 13 | p-value : 0.003898960483592368 | t-value : 5.060316849863767\n",
      "Layer : 15 | p-value : 0.01879556740070416 | t-value : 3.422093492381001\n",
      "Layer : 12 | p-value : 0.0002816978079583274 | t-value : 9.006596376106975\n",
      "Layer : 1 | p-value : 0.02690020708942745 | t-value : 3.098456312666927\n"
     ]
    }
   ],
   "source": [
    "repertory_name = 'features/PCA_table/'\n",
    "repertory = os.listdir(repertory_name)\n",
    "\n",
    "for layer in repertory:\n",
    "    if not 'checkpoint' in layer:\n",
    "        X_pca = np.load(repertory_name + '/' + str(layer))\n",
    "        X_pca = X_pca['arr_0']\n",
    "\n",
    "        scores_SVC = []\n",
    "        scores_dummy = []\n",
    "        s2 = []\n",
    "        for i in range(5): # to repeat 5 times\n",
    "            # 2-fold cv on SVC and dummy classifiers\n",
    "            clf = SVC()\n",
    "            dummy_clf = DummyClassifier(strategy = 'most_frequent')\n",
    "            skf = StratifiedKFold(2, shuffle = True, random_state = i)\n",
    "            scores_dummy.append(cross_val_score(dummy_clf, X_pca, labels, cv = skf))\n",
    "            scores_SVC.append(cross_val_score(clf, X_pca, labels, cv = skf))\n",
    "\n",
    "            # calculate si² for i =1...5\n",
    "            s2.append(si2(scores_SVC[i], scores_dummy[i]))\n",
    "\n",
    "        # calculate the t statistic and conclude : if p < 0.05 : reject H0, meaning classifiers don't have equal performance\n",
    "\n",
    "        numerator = scores_SVC[0][0] - scores_dummy[0][0]\n",
    "        denominator = np.sqrt((1/5)*np.sum(s2))\n",
    "        t_statistic = numerator/denominator\n",
    "        pvalue = t.sf(abs(t_statistic), df=5)*2\n",
    "        print('Layer : ' + str(layer.split('_')[2].split('.')[0]) + ' | p-value : ' + str(pvalue) + ' | t-value : ' + str(t_statistic))"
   ]
  },
  {
   "cell_type": "markdown",
   "id": "fcd4e884-3d1b-41a6-aeea-a4e3bbcb3352",
   "metadata": {},
   "source": [
    "## Compare grayscale with random models"
   ]
  },
  {
   "cell_type": "code",
   "execution_count": 6,
   "id": "14d24e79-ac50-4fd0-a1ef-5b8d22c24bed",
   "metadata": {},
   "outputs": [
    {
     "name": "stdout",
     "output_type": "stream",
     "text": [
      "Layer : 1 | p-value : 0.06537231015137396 | t-value : 2.35230958409157\n",
      "Layer : 4 | p-value : 0.03483926771536033 * | t-value : 2.873806092299536\n",
      "Layer : 15 | p-value : 0.03474627531227645 * | t-value : 2.8760934190440723\n",
      "Layer : fc2 | p-value : 6.818100917723113e-06 * | t-value : 19.33997738801598\n",
      "Layer : 6 | p-value : 0.004105786156890457 * | t-value : 4.999695575684992\n",
      "Layer : 9 | p-value : 0.0002977863307578082 * | t-value : 8.901850931172238\n",
      "Layer : 11 | p-value : 0.05489026704562209 | t-value : 2.49402011162011\n",
      "Layer : 14 | p-value : 0.0006075800478197828 * | t-value : 7.649990807125729\n",
      "Layer : 13 | p-value : 0.0004084925589397374 * | t-value : 8.326213451166979\n",
      "Layer : 0 | p-value : 0.02658909326978062 * | t-value : 3.1087264930397955\n",
      "Layer : 10 | p-value : 0.003497063230470922 * | t-value : 5.189647871707591\n",
      "Layer : 8 | p-value : 0.0024131676875803415 * | t-value : 5.6492411143755366\n",
      "Layer : 2 | p-value : 0.10200929057182935 | t-value : 1.999463923315085\n",
      "Layer : 5 | p-value : 0.014211767210431612 * | t-value : 3.685516156659695\n",
      "Layer : 12 | p-value : 0.003911235815088086 * | t-value : 5.0566150269599826\n",
      "Layer : 3 | p-value : 0.023161524839884592 * | t-value : 3.231717886042581\n",
      "Layer : fc1 | p-value : 0.00038601159194521915 * | t-value : 8.426792494326174\n",
      "Layer : 7 | p-value : 0.0014790576551215273 * | t-value : 6.303168099305775\n"
     ]
    }
   ],
   "source": [
    "repertory_name = 'features_BW/PCA_table_BW/'\n",
    "repertory = os.listdir(repertory_name)\n",
    "\n",
    "for layer in repertory:\n",
    "    if not 'checkpoint' in layer:\n",
    "        X_pca = np.load(repertory_name + '/' + str(layer))\n",
    "        X_pca = X_pca['arr_0']\n",
    "\n",
    "        scores_SVC = []\n",
    "        scores_dummy = []\n",
    "        s2 = []\n",
    "        for i in range(5): # to repeat 5 times\n",
    "            # 2-fold cv on SVC and dummy classifiers\n",
    "            clf = SVC()\n",
    "            dummy_clf = DummyClassifier(strategy = 'most_frequent')\n",
    "            skf = StratifiedKFold(2, shuffle = True, random_state = i)\n",
    "            scores_dummy.append(cross_val_score(dummy_clf, X_pca, labels, cv = skf))\n",
    "            scores_SVC.append(cross_val_score(clf, X_pca, labels, cv = skf))\n",
    "\n",
    "            # calculate si² for i =1...5\n",
    "            s2.append(si2(scores_SVC[i], scores_dummy[i]))\n",
    "\n",
    "        # calculate the t statistic and conclude : if p < 0.05 : reject H0, meaning classifiers don't have equal performance\n",
    "\n",
    "        numerator = scores_SVC[0][0] - scores_dummy[0][0]\n",
    "        denominator = np.sqrt((1/5)*np.sum(s2))\n",
    "        t_statistic = numerator/denominator\n",
    "        pvalue = t.sf(abs(t_statistic), df=5)*2\n",
    "        sign = ''\n",
    "        if pvalue<0.05:\n",
    "            sign = ' *'\n",
    "        print('Layer : ' + str(layer.split('_')[3].split('.')[0]) + ' | p-value : ' + str(pvalue) + str(sign) + ' | t-value : ' + str(t_statistic))"
   ]
  },
  {
   "cell_type": "code",
   "execution_count": null,
   "id": "7a86aeab-fe08-4651-877f-55ad31d181cb",
   "metadata": {},
   "outputs": [],
   "source": [
    "### significativité pour les layers :\n",
    "# 0, 3, 4, 5, 6, 7, 8, 9, 10, 12, 13, 14, 15, FC1, FC2\n",
    "# pas significatif pour les layers 1, 2, 11 "
   ]
  },
  {
   "cell_type": "code",
   "execution_count": null,
   "id": "0c175b74-10c2-455c-81e4-08e31118481e",
   "metadata": {},
   "outputs": [],
   "source": []
  }
 ],
 "metadata": {
  "kernelspec": {
   "display_name": "Python 3 (ipykernel)",
   "language": "python",
   "name": "python3"
  },
  "language_info": {
   "codemirror_mode": {
    "name": "ipython",
    "version": 3
   },
   "file_extension": ".py",
   "mimetype": "text/x-python",
   "name": "python",
   "nbconvert_exporter": "python",
   "pygments_lexer": "ipython3",
   "version": "3.9.7"
  }
 },
 "nbformat": 4,
 "nbformat_minor": 5
}
